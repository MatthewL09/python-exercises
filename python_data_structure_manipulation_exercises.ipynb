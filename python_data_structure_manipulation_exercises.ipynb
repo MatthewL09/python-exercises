{
 "cells": [
  {
   "cell_type": "code",
   "execution_count": 3,
   "id": "338c8b6f-f220-43b1-8be8-388a966fdee7",
   "metadata": {},
   "outputs": [],
   "source": [
    "# 20 Python Data Structure Manipulation Exercises\n",
    "\n",
    "students = [\n",
    "    {\n",
    "        \"id\": \"100001\",\n",
    "        \"student\": \"Ada Lovelace\",\n",
    "        \"coffee_preference\": \"light\",\n",
    "        \"course\": \"web development\",\n",
    "        \"grades\": [70, 91, 82, 71],\n",
    "        \"pets\": [{\"species\": \"horse\", \"age\": 8}],\n",
    "    },\n",
    "    {\n",
    "        \"id\": \"100002\",\n",
    "        \"student\": \"Thomas Bayes\",\n",
    "        \"coffee_preference\": \"medium\",\n",
    "        \"course\": \"data science\",\n",
    "        \"grades\": [75, 73, 86, 100],\n",
    "        \"pets\": [],\n",
    "    },\n",
    "    {\n",
    "        \"id\": \"100003\",\n",
    "        \"student\": \"Marie Curie\",\n",
    "        \"coffee_preference\": \"light\",\n",
    "        \"course\": \"web development\",\n",
    "        \"grades\": [70, 89, 69, 65],\n",
    "        \"pets\": [{\"species\": \"cat\", \"age\": 0}],\n",
    "    },\n",
    "    {\n",
    "        \"id\": \"100004\",\n",
    "        \"student\": \"Grace Hopper\",\n",
    "        \"coffee_preference\": \"dark\",\n",
    "        \"course\": \"data science\",\n",
    "        \"grades\": [73, 66, 83, 92],\n",
    "        \"pets\": [{\"species\": \"dog\", \"age\": 4}, {\"species\": \"cat\", \"age\": 4}],\n",
    "    },\n",
    "    {\n",
    "        \"id\": \"100005\",\n",
    "        \"student\": \"Alan Turing\",\n",
    "        \"coffee_preference\": \"dark\",\n",
    "        \"course\": \"web development\",\n",
    "        \"grades\": [78, 98, 85, 65],\n",
    "        \"pets\": [\n",
    "            {\"species\": \"horse\", \"age\": 6},\n",
    "            {\"species\": \"horse\", \"age\": 7},\n",
    "            {\"species\": \"dog\", \"age\": 5},\n",
    "        ],\n",
    "    },\n",
    "    {\n",
    "        \"id\": \"100006\",\n",
    "        \"student\": \"Rosalind Franklin\",\n",
    "        \"coffee_preference\": \"dark\",\n",
    "        \"course\": \"data science\",\n",
    "        \"grades\": [76, 70, 96, 81],\n",
    "        \"pets\": [],\n",
    "    },\n",
    "    {\n",
    "        \"id\": \"100007\",\n",
    "        \"student\": \"Elizabeth Blackwell\",\n",
    "        \"coffee_preference\": \"dark\",\n",
    "        \"course\": \"web development\",\n",
    "        \"grades\": [69, 94, 89, 86],\n",
    "        \"pets\": [{\"species\": \"cat\", \"age\": 10}],\n",
    "    },\n",
    "    {\n",
    "        \"id\": \"100008\",\n",
    "        \"student\": \"Rene Descartes\",\n",
    "        \"coffee_preference\": \"medium\",\n",
    "        \"course\": \"data science\",\n",
    "        \"grades\": [87, 79, 90, 99],\n",
    "        \"pets\": [{\"species\": \"cat\", \"age\": 10}, {\"species\": \"cat\", \"age\": 8}],\n",
    "    },\n",
    "    {\n",
    "        \"id\": \"100009\",\n",
    "        \"student\": \"Ahmed Zewail\",\n",
    "        \"coffee_preference\": \"medium\",\n",
    "        \"course\": \"data science\",\n",
    "        \"grades\": [74, 99, 93, 89],\n",
    "        \"pets\": [{\"species\": \"cat\", \"age\": 0}, {\"species\": \"cat\", \"age\": 0}],\n",
    "    },\n",
    "    {\n",
    "        \"id\": \"100010\",\n",
    "        \"student\": \"Chien-Shiung Wu\",\n",
    "        \"coffee_preference\": \"medium\",\n",
    "        \"course\": \"web development\",\n",
    "        \"grades\": [82, 92, 91, 65],\n",
    "        \"pets\": [{\"species\": \"cat\", \"age\": 8}],\n",
    "    },\n",
    "    {\n",
    "        \"id\": \"100011\",\n",
    "        \"student\": \"William Sanford Nye\",\n",
    "        \"coffee_preference\": \"dark\",\n",
    "        \"course\": \"data science\",\n",
    "        \"grades\": [70, 92, 65, 99],\n",
    "        \"pets\": [{\"species\": \"cat\", \"age\": 8}, {\"species\": \"cat\", \"age\": 5}],\n",
    "    },\n",
    "    {\n",
    "        \"id\": \"100012\",\n",
    "        \"student\": \"Carl Sagan\",\n",
    "        \"coffee_preference\": \"medium\",\n",
    "        \"course\": \"data science\",\n",
    "        \"grades\": [100, 86, 91, 87],\n",
    "        \"pets\": [{\"species\": \"cat\", \"age\": 10}],\n",
    "    },\n",
    "    {\n",
    "        \"id\": \"100013\",\n",
    "        \"student\": \"Jane Goodall\",\n",
    "        \"coffee_preference\": \"light\",\n",
    "        \"course\": \"web development\",\n",
    "        \"grades\": [80, 70, 68, 98],\n",
    "        \"pets\": [{\"species\": \"horse\", \"age\": 4}],\n",
    "    },\n",
    "    {\n",
    "        \"id\": \"100014\",\n",
    "        \"student\": \"Richard Feynman\",\n",
    "        \"coffee_preference\": \"medium\",\n",
    "        \"course\": \"web development\",\n",
    "        \"grades\": [73, 99, 86, 98],\n",
    "        \"pets\": [{\"species\": \"dog\", \"age\": 6}],\n",
    "    },\n",
    "]"
   ]
  },
  {
   "cell_type": "code",
   "execution_count": 4,
   "id": "33824836-4ebb-4431-b253-8812ff87f60f",
   "metadata": {},
   "outputs": [
    {
     "data": {
      "text/plain": [
       "[{'id': '100001',\n",
       "  'student': 'Ada Lovelace',\n",
       "  'coffee_preference': 'light',\n",
       "  'course': 'web development',\n",
       "  'grades': [70, 91, 82, 71],\n",
       "  'pets': [{'species': 'horse', 'age': 8}]},\n",
       " {'id': '100002',\n",
       "  'student': 'Thomas Bayes',\n",
       "  'coffee_preference': 'medium',\n",
       "  'course': 'data science',\n",
       "  'grades': [75, 73, 86, 100],\n",
       "  'pets': []},\n",
       " {'id': '100003',\n",
       "  'student': 'Marie Curie',\n",
       "  'coffee_preference': 'light',\n",
       "  'course': 'web development',\n",
       "  'grades': [70, 89, 69, 65],\n",
       "  'pets': [{'species': 'cat', 'age': 0}]},\n",
       " {'id': '100004',\n",
       "  'student': 'Grace Hopper',\n",
       "  'coffee_preference': 'dark',\n",
       "  'course': 'data science',\n",
       "  'grades': [73, 66, 83, 92],\n",
       "  'pets': [{'species': 'dog', 'age': 4}, {'species': 'cat', 'age': 4}]},\n",
       " {'id': '100005',\n",
       "  'student': 'Alan Turing',\n",
       "  'coffee_preference': 'dark',\n",
       "  'course': 'web development',\n",
       "  'grades': [78, 98, 85, 65],\n",
       "  'pets': [{'species': 'horse', 'age': 6},\n",
       "   {'species': 'horse', 'age': 7},\n",
       "   {'species': 'dog', 'age': 5}]},\n",
       " {'id': '100006',\n",
       "  'student': 'Rosalind Franklin',\n",
       "  'coffee_preference': 'dark',\n",
       "  'course': 'data science',\n",
       "  'grades': [76, 70, 96, 81],\n",
       "  'pets': []},\n",
       " {'id': '100007',\n",
       "  'student': 'Elizabeth Blackwell',\n",
       "  'coffee_preference': 'dark',\n",
       "  'course': 'web development',\n",
       "  'grades': [69, 94, 89, 86],\n",
       "  'pets': [{'species': 'cat', 'age': 10}]},\n",
       " {'id': '100008',\n",
       "  'student': 'Rene Descartes',\n",
       "  'coffee_preference': 'medium',\n",
       "  'course': 'data science',\n",
       "  'grades': [87, 79, 90, 99],\n",
       "  'pets': [{'species': 'cat', 'age': 10}, {'species': 'cat', 'age': 8}]},\n",
       " {'id': '100009',\n",
       "  'student': 'Ahmed Zewail',\n",
       "  'coffee_preference': 'medium',\n",
       "  'course': 'data science',\n",
       "  'grades': [74, 99, 93, 89],\n",
       "  'pets': [{'species': 'cat', 'age': 0}, {'species': 'cat', 'age': 0}]},\n",
       " {'id': '100010',\n",
       "  'student': 'Chien-Shiung Wu',\n",
       "  'coffee_preference': 'medium',\n",
       "  'course': 'web development',\n",
       "  'grades': [82, 92, 91, 65],\n",
       "  'pets': [{'species': 'cat', 'age': 8}]},\n",
       " {'id': '100011',\n",
       "  'student': 'William Sanford Nye',\n",
       "  'coffee_preference': 'dark',\n",
       "  'course': 'data science',\n",
       "  'grades': [70, 92, 65, 99],\n",
       "  'pets': [{'species': 'cat', 'age': 8}, {'species': 'cat', 'age': 5}]},\n",
       " {'id': '100012',\n",
       "  'student': 'Carl Sagan',\n",
       "  'coffee_preference': 'medium',\n",
       "  'course': 'data science',\n",
       "  'grades': [100, 86, 91, 87],\n",
       "  'pets': [{'species': 'cat', 'age': 10}]},\n",
       " {'id': '100013',\n",
       "  'student': 'Jane Goodall',\n",
       "  'coffee_preference': 'light',\n",
       "  'course': 'web development',\n",
       "  'grades': [80, 70, 68, 98],\n",
       "  'pets': [{'species': 'horse', 'age': 4}]},\n",
       " {'id': '100014',\n",
       "  'student': 'Richard Feynman',\n",
       "  'coffee_preference': 'medium',\n",
       "  'course': 'web development',\n",
       "  'grades': [73, 99, 86, 98],\n",
       "  'pets': [{'species': 'dog', 'age': 6}]}]"
      ]
     },
     "execution_count": 4,
     "metadata": {},
     "output_type": "execute_result"
    }
   ],
   "source": [
    "students"
   ]
  },
  {
   "cell_type": "code",
   "execution_count": 1,
   "id": "6299d7c8-f09c-4c40-9d5e-49bd8da3ad8b",
   "metadata": {},
   "outputs": [],
   "source": [
    "The following questions reference the `students` data structure below. Write\n",
    "the python code to answer the following questions:"
   ]
  },
  {
   "cell_type": "code",
   "execution_count": 5,
   "id": "4992f133-81c1-4561-b23b-1b25faf2e228",
   "metadata": {},
   "outputs": [
    {
     "data": {
      "text/plain": [
       "14"
      ]
     },
     "execution_count": 5,
     "metadata": {},
     "output_type": "execute_result"
    }
   ],
   "source": [
    "# How many students are there?\n",
    "len(students)"
   ]
  },
  {
   "cell_type": "code",
   "execution_count": 14,
   "id": "1e0f82fa-86fb-4aa9-9173-556acdecd55b",
   "metadata": {},
   "outputs": [
    {
     "name": "stdout",
     "output_type": "stream",
     "text": [
      "3 students prefer light coffee, 6 prefer medium coffee, 14 prefer dark coffee\n"
     ]
    }
   ],
   "source": [
    "# 1. How many students prefer light coffee? For each type of coffee roast?\n",
    "light_coffee =  [coffee for coffee in students if 'coffee_preference' == 'light']\n",
    "light_coffee\n",
    "\n",
    "light_coffee = 0\n",
    "medium_coffee = 0\n",
    "dark_coffee = 0\n",
    "\n",
    "for student in students:\n",
    "    if student['coffee_preference'] == 'light':\n",
    "        light_coffee += 1\n",
    "    elif student['coffee_preference'] == 'medium':\n",
    "        medium_coffee += 1\n",
    "    else: student['coffee_preference'] == 'dark'\n",
    "    dark_coffee += 1\n",
    "    \n",
    "print(f'{light_coffee} students prefer light coffee, {medium_coffee} prefer medium coffee, {dark_coffee} prefer dark coffee')"
   ]
  },
  {
   "cell_type": "code",
   "execution_count": 16,
   "id": "2b5b2fd5-3b84-4de3-ac46-684cafc9f6a5",
   "metadata": {},
   "outputs": [
    {
     "name": "stdout",
     "output_type": "stream",
     "text": [
      "There are 4 horses\n",
      "There are 11 cats\n",
      "There are 3 dogs\n"
     ]
    }
   ],
   "source": [
    "# 1. How many types of each pet are there?\n",
    "\n",
    "pets = {}\n",
    "for student in students:\n",
    "    if student['pets'] != 0:\n",
    "         # print (student['pets'])\n",
    "        for pet in student[\"pets\"]:\n",
    "            # print(pet)\n",
    "            if pet[\"species\"] not in pets:\n",
    "                pets[pet[\"species\"]] = 1\n",
    "            else:\n",
    "                pets[pet[\"species\"]] += 1\n",
    "for pet, count in pets.items():\n",
    "    print(f\"There are {count} {pet}s\")"
   ]
  },
  {
   "cell_type": "code",
   "execution_count": 1,
   "id": "c0c8379e-e15e-4aef-b737-435ff9fa5a43",
   "metadata": {},
   "outputs": [],
   "source": [
    "# 1. How many grades does each student have? Do they all have the same number of grades?"
   ]
  },
  {
   "cell_type": "code",
   "execution_count": 1,
   "id": "1eb0eb01-0dd2-478d-bd2d-fd2758b26e4b",
   "metadata": {},
   "outputs": [],
   "source": [
    "# 1. What is each student's grade average?"
   ]
  },
  {
   "cell_type": "code",
   "execution_count": 1,
   "id": "2c23e5b0-2b2e-4885-a62e-9b051a89aadf",
   "metadata": {},
   "outputs": [],
   "source": [
    "# 1. How many pets does each student have?"
   ]
  },
  {
   "cell_type": "code",
   "execution_count": 1,
   "id": "80e2923e-1eb0-4c3d-ad81-0c336c29ea1f",
   "metadata": {},
   "outputs": [],
   "source": [
    "# 1. How many students are in web development? data science?"
   ]
  },
  {
   "cell_type": "code",
   "execution_count": 1,
   "id": "94e0bcc4-721b-4075-8bc1-8bf49796a041",
   "metadata": {},
   "outputs": [],
   "source": [
    "# 1. What is the average number of pets for students in web development?"
   ]
  },
  {
   "cell_type": "code",
   "execution_count": 1,
   "id": "18213308-6825-4b2a-8b0d-2690082dc2fa",
   "metadata": {},
   "outputs": [],
   "source": [
    "# 1. What is the average pet age for students in data science?"
   ]
  },
  {
   "cell_type": "code",
   "execution_count": 1,
   "id": "582b462f-0f2b-42ff-9ea3-c9e58fe4915c",
   "metadata": {},
   "outputs": [],
   "source": [
    "# 1. What is most frequent coffee preference for data science students?"
   ]
  },
  {
   "cell_type": "code",
   "execution_count": 1,
   "id": "db7d6d29-815b-4902-881c-ad0399bafbe8",
   "metadata": {},
   "outputs": [],
   "source": [
    "# 1. What is the least frequent coffee preference for web development students?"
   ]
  },
  {
   "cell_type": "code",
   "execution_count": 1,
   "id": "56bbc52e-56ba-4702-9bd1-3dd6b8df41bb",
   "metadata": {},
   "outputs": [],
   "source": [
    "# 1. What is the average grade for students with at least 2 pets?"
   ]
  },
  {
   "cell_type": "code",
   "execution_count": 1,
   "id": "d9e24d41-5210-4700-8a07-612bd41ef4c0",
   "metadata": {},
   "outputs": [],
   "source": [
    "# How many students have 3 pets?"
   ]
  },
  {
   "cell_type": "code",
   "execution_count": 1,
   "id": "4c21b08f-882a-40b1-a1cf-82dab1fbd353",
   "metadata": {},
   "outputs": [],
   "source": [
    "# What is the average grade for students with 0 pets?"
   ]
  },
  {
   "cell_type": "code",
   "execution_count": 1,
   "id": "c9568f42-eda3-4c7e-9b18-435721f61194",
   "metadata": {},
   "outputs": [],
   "source": [
    "# What is the average grade for web development students? data science students?"
   ]
  },
  {
   "cell_type": "code",
   "execution_count": 1,
   "id": "2b732f9c-92e9-4701-bfc2-9da3abd212d2",
   "metadata": {},
   "outputs": [],
   "source": [
    "# What is the average grade range (i.e. highest grade - lowest grade) for dark coffee drinkers?"
   ]
  },
  {
   "cell_type": "code",
   "execution_count": 1,
   "id": "eec9ae6c-ac18-4aef-aa66-0973d8fbd571",
   "metadata": {},
   "outputs": [],
   "source": [
    "# What is the average number of pets for medium coffee drinkers?"
   ]
  },
  {
   "cell_type": "code",
   "execution_count": 1,
   "id": "fabacc86-e30b-4e1e-9951-948d7f72130a",
   "metadata": {},
   "outputs": [],
   "source": [
    "# What is the most common type of pet for web development students?"
   ]
  },
  {
   "cell_type": "code",
   "execution_count": 1,
   "id": "6fed9eb1-9417-4171-a0fe-d4b71ccdc6d0",
   "metadata": {},
   "outputs": [],
   "source": [
    "# What is the average name length?"
   ]
  },
  {
   "cell_type": "code",
   "execution_count": 1,
   "id": "30c3c636-fa59-468a-839b-80f246fd2545",
   "metadata": {},
   "outputs": [],
   "source": [
    "# What is the highest pet age for light coffee drinkers?"
   ]
  }
 ],
 "metadata": {
  "kernelspec": {
   "display_name": "Python 3 (ipykernel)",
   "language": "python",
   "name": "python3"
  },
  "language_info": {
   "codemirror_mode": {
    "name": "ipython",
    "version": 3
   },
   "file_extension": ".py",
   "mimetype": "text/x-python",
   "name": "python",
   "nbconvert_exporter": "python",
   "pygments_lexer": "ipython3",
   "version": "3.9.7"
  }
 },
 "nbformat": 4,
 "nbformat_minor": 5
}
