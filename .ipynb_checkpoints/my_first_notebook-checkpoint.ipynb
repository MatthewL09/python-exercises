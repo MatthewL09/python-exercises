{
 "cells": [
  {
   "cell_type": "code",
   "execution_count": 3,
   "id": "531752af",
   "metadata": {},
   "outputs": [
    {
     "name": "stdout",
     "output_type": "stream",
     "text": [
      "Hello, my name is Matthew\n"
     ]
    }
   ],
   "source": [
    "print (\"Hello, my name is Matthew\")\n"
   ]
  },
  {
   "cell_type": "code",
   "execution_count": 2,
   "id": "f462727d",
   "metadata": {},
   "outputs": [
    {
     "data": {
      "text/plain": [
       "403"
      ]
     },
     "execution_count": 2,
     "metadata": {},
     "output_type": "execute_result"
    }
   ],
   "source": [
    "13 * 31"
   ]
  },
  {
   "cell_type": "markdown",
   "id": "b28f6134",
   "metadata": {},
   "source": [
    " pressing shit + enter will run the cell"
   ]
  },
  {
   "cell_type": "code",
   "execution_count": 21,
   "id": "1cb003b9",
   "metadata": {},
   "outputs": [
    {
     "name": "stdout",
     "output_type": "stream",
     "text": [
      "Are you learning?\n"
     ]
    }
   ],
   "source": [
    "print (\"Are you learning?\") \n",
    "   "
   ]
  },
  {
   "cell_type": "code",
   "execution_count": null,
   "id": "104e3d88",
   "metadata": {},
   "outputs": [],
   "source": []
  }
 ],
 "metadata": {
  "kernelspec": {
   "display_name": "Python 3 (ipykernel)",
   "language": "python",
   "name": "python3"
  },
  "language_info": {
   "codemirror_mode": {
    "name": "ipython",
    "version": 3
   },
   "file_extension": ".py",
   "mimetype": "text/x-python",
   "name": "python",
   "nbconvert_exporter": "python",
   "pygments_lexer": "ipython3",
   "version": "3.9.7"
  }
 },
 "nbformat": 4,
 "nbformat_minor": 5
}
